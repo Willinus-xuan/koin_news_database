{
 "cells": [
  {
   "cell_type": "code",
   "execution_count": 1,
   "id": "c57de58d",
   "metadata": {},
   "outputs": [
    {
     "name": "stdout",
     "output_type": "stream",
     "text": [
      "Collecting keyphrasetransformer\n",
      "  Downloading keyphrasetransformer-0.0.2.tar.gz (3.9 kB)\n",
      "Requirement already satisfied: nltk in /Users/karena_gyc/opt/anaconda3/lib/python3.8/site-packages (from keyphrasetransformer) (3.6.1)\n",
      "Collecting transformers\n",
      "  Downloading transformers-4.33.1-py3-none-any.whl (7.6 MB)\n",
      "\u001b[K     |████████████████████████████████| 7.6 MB 4.0 MB/s eta 0:00:01\n",
      "\u001b[?25hRequirement already satisfied: click in /Users/karena_gyc/opt/anaconda3/lib/python3.8/site-packages (from nltk->keyphrasetransformer) (7.1.2)\n",
      "Requirement already satisfied: regex in /Users/karena_gyc/opt/anaconda3/lib/python3.8/site-packages (from nltk->keyphrasetransformer) (2021.4.4)\n",
      "Requirement already satisfied: tqdm in /Users/karena_gyc/opt/anaconda3/lib/python3.8/site-packages (from nltk->keyphrasetransformer) (4.59.0)\n",
      "Requirement already satisfied: joblib in /Users/karena_gyc/opt/anaconda3/lib/python3.8/site-packages (from nltk->keyphrasetransformer) (1.3.1)\n",
      "Collecting tokenizers!=0.11.3,<0.14,>=0.11.1\n",
      "  Downloading tokenizers-0.13.3-cp38-cp38-macosx_10_11_x86_64.whl (4.0 MB)\n",
      "\u001b[K     |████████████████████████████████| 4.0 MB 144.9 MB/s eta 0:00:01\n",
      "\u001b[?25hRequirement already satisfied: numpy>=1.17 in /Users/karena_gyc/opt/anaconda3/lib/python3.8/site-packages (from transformers->keyphrasetransformer) (1.23.5)\n",
      "Requirement already satisfied: requests in /Users/karena_gyc/opt/anaconda3/lib/python3.8/site-packages (from transformers->keyphrasetransformer) (2.31.0)\n",
      "Requirement already satisfied: filelock in /Users/karena_gyc/opt/anaconda3/lib/python3.8/site-packages (from transformers->keyphrasetransformer) (3.0.12)\n",
      "Collecting huggingface-hub<1.0,>=0.15.1\n",
      "  Downloading huggingface_hub-0.17.1-py3-none-any.whl (294 kB)\n",
      "\u001b[K     |████████████████████████████████| 294 kB 43.9 MB/s eta 0:00:01\n",
      "\u001b[?25hRequirement already satisfied: packaging>=20.0 in /Users/karena_gyc/opt/anaconda3/lib/python3.8/site-packages (from transformers->keyphrasetransformer) (20.9)\n",
      "Requirement already satisfied: pyyaml>=5.1 in /Users/karena_gyc/opt/anaconda3/lib/python3.8/site-packages (from transformers->keyphrasetransformer) (5.4.1)\n",
      "Collecting safetensors>=0.3.1\n",
      "  Downloading safetensors-0.3.3-cp38-cp38-macosx_10_11_x86_64.whl (404 kB)\n",
      "\u001b[K     |████████████████████████████████| 404 kB 86.7 MB/s eta 0:00:01\n",
      "\u001b[?25hRequirement already satisfied: typing-extensions>=3.7.4.3 in /Users/karena_gyc/opt/anaconda3/lib/python3.8/site-packages (from huggingface-hub<1.0,>=0.15.1->transformers->keyphrasetransformer) (3.7.4.3)\n",
      "Requirement already satisfied: fsspec in /Users/karena_gyc/opt/anaconda3/lib/python3.8/site-packages (from huggingface-hub<1.0,>=0.15.1->transformers->keyphrasetransformer) (0.9.0)\n",
      "Requirement already satisfied: pyparsing>=2.0.2 in /Users/karena_gyc/opt/anaconda3/lib/python3.8/site-packages (from packaging>=20.0->transformers->keyphrasetransformer) (2.4.7)\n",
      "Requirement already satisfied: idna<4,>=2.5 in /Users/karena_gyc/opt/anaconda3/lib/python3.8/site-packages (from requests->transformers->keyphrasetransformer) (2.10)\n",
      "Requirement already satisfied: certifi>=2017.4.17 in /Users/karena_gyc/opt/anaconda3/lib/python3.8/site-packages (from requests->transformers->keyphrasetransformer) (2022.12.7)\n",
      "Requirement already satisfied: urllib3<3,>=1.21.1 in /Users/karena_gyc/opt/anaconda3/lib/python3.8/site-packages (from requests->transformers->keyphrasetransformer) (1.26.16)\n",
      "Requirement already satisfied: charset-normalizer<4,>=2 in /Users/karena_gyc/opt/anaconda3/lib/python3.8/site-packages (from requests->transformers->keyphrasetransformer) (3.2.0)\n",
      "Building wheels for collected packages: keyphrasetransformer\n",
      "  Building wheel for keyphrasetransformer (setup.py) ... \u001b[?25ldone\n",
      "\u001b[?25h  Created wheel for keyphrasetransformer: filename=keyphrasetransformer-0.0.2-py3-none-any.whl size=4195 sha256=edd4dd7568b62c3f4e12f0c4f930eefd6341e8b4ec1ff1dff4c83bda4f99c456\n",
      "  Stored in directory: /Users/karena_gyc/Library/Caches/pip/wheels/31/59/22/f5dcc20566996fcdeb8fd68f63d9f4f667548a2741764fe165\n",
      "Successfully built keyphrasetransformer\n",
      "Installing collected packages: tokenizers, safetensors, huggingface-hub, transformers, keyphrasetransformer\n",
      "Successfully installed huggingface-hub-0.17.1 keyphrasetransformer-0.0.2 safetensors-0.3.3 tokenizers-0.13.3 transformers-4.33.1\n"
     ]
    }
   ],
   "source": [
    "! pip install keyphrasetransformer"
   ]
  },
  {
   "cell_type": "code",
   "execution_count": null,
   "id": "9254ee6a",
   "metadata": {},
   "outputs": [
    {
     "name": "stderr",
     "output_type": "stream",
     "text": [
      "[nltk_data] Downloading package punkt to\n",
      "[nltk_data]     /Users/karena_gyc/nltk_data...\n",
      "[nltk_data]   Unzipping tokenizers/punkt.zip.\n",
      "[nltk_data] Downloading package words to\n",
      "[nltk_data]     /Users/karena_gyc/nltk_data...\n",
      "[nltk_data]   Package words is already up-to-date!\n"
     ]
    },
    {
     "data": {
      "application/vnd.jupyter.widget-view+json": {
       "model_id": "b64ec69adcda4212af3667c4793b0de6",
       "version_major": 2,
       "version_minor": 0
      },
      "text/plain": [
       "Downloading (…)lve/main/config.json:   0%|          | 0.00/1.38k [00:00<?, ?B/s]"
      ]
     },
     "metadata": {},
     "output_type": "display_data"
    },
    {
     "data": {
      "application/vnd.jupyter.widget-view+json": {
       "model_id": "a158df53677f4dfbb63d33a38574e049",
       "version_major": 2,
       "version_minor": 0
      },
      "text/plain": [
       "Downloading pytorch_model.bin:   0%|          | 0.00/892M [00:00<?, ?B/s]"
      ]
     },
     "metadata": {},
     "output_type": "display_data"
    },
    {
     "data": {
      "application/vnd.jupyter.widget-view+json": {
       "model_id": "dcd6056d773544fc917719b0e66e7064",
       "version_major": 2,
       "version_minor": 0
      },
      "text/plain": [
       "Downloading (…)okenizer_config.json:   0%|          | 0.00/1.92k [00:00<?, ?B/s]"
      ]
     },
     "metadata": {},
     "output_type": "display_data"
    },
    {
     "data": {
      "application/vnd.jupyter.widget-view+json": {
       "model_id": "e0be1045c9f34a3ba7f615c9be9b9d39",
       "version_major": 2,
       "version_minor": 0
      },
      "text/plain": [
       "Downloading spiece.model:   0%|          | 0.00/792k [00:00<?, ?B/s]"
      ]
     },
     "metadata": {},
     "output_type": "display_data"
    },
    {
     "data": {
      "application/vnd.jupyter.widget-view+json": {
       "model_id": "2f3cd481c1d14781b24b16fbbfa7554a",
       "version_major": 2,
       "version_minor": 0
      },
      "text/plain": [
       "Downloading (…)/main/tokenizer.json:   0%|          | 0.00/2.42M [00:00<?, ?B/s]"
      ]
     },
     "metadata": {},
     "output_type": "display_data"
    },
    {
     "data": {
      "application/vnd.jupyter.widget-view+json": {
       "model_id": "0a4396eff27b478ebdd71aa808e3dd11",
       "version_major": 2,
       "version_minor": 0
      },
      "text/plain": [
       "Downloading (…)cial_tokens_map.json:   0%|          | 0.00/1.79k [00:00<?, ?B/s]"
      ]
     },
     "metadata": {},
     "output_type": "display_data"
    },
    {
     "name": "stderr",
     "output_type": "stream",
     "text": [
      "/Users/karena_gyc/opt/anaconda3/lib/python3.8/site-packages/transformers/generation/configuration_utils.py:367: UserWarning: `do_sample` is set to `False`. However, `top_p` is set to `0.95` -- this flag is only used in sample-based generation modes. You should set `do_sample=True` or unset `top_p`.\n",
      "  warnings.warn(\n"
     ]
    }
   ],
   "source": [
    "from keyphrasetransformer import KeyPhraseTransformer\n",
    "\n",
    "kp = KeyPhraseTransformer()\n",
    "\n",
    "doc = \"\"\"\n",
    "Transfer learning, where a model is first pre-trained on a data-rich task before being fine-tuned \n",
    "on a downstream task, has emerged as a powerful technique in natural language processing (NLP). \n",
    "The effectiveness of transfer learning has given rise to a diversity of approaches, methodology, and practice. \n",
    "In this paper, we explore the landscape of transfer learning techniques for NLP by introducing a unified framework \n",
    "that converts every language problem into a text-to-text format. Our systematic study compares pretraining objectives, \n",
    "architectures, unlabeled datasets, transfer approaches, and other factors on dozens of language understanding tasks. \n",
    "By combining the insights from our exploration with scale and our new “Colossal Clean Crawled Corpus”, \n",
    "we achieve state-of-the-art results on many benchmarks covering summarization, question answering, \n",
    "text classification, and more. To facilitate future work on transfer learning for NLP, \n",
    "we release our dataset, pre-trained models, and code.\n",
    "\n",
    "\"\"\"\n",
    "\n",
    "kp.get_key_phrases(doc)"
   ]
  },
  {
   "cell_type": "code",
   "execution_count": null,
   "id": "ca877c9c",
   "metadata": {},
   "outputs": [],
   "source": [
    "def extract_key_phrase(df):\n",
    "    "
   ]
  }
 ],
 "metadata": {
  "kernelspec": {
   "display_name": "Python 3",
   "language": "python",
   "name": "python3"
  },
  "language_info": {
   "codemirror_mode": {
    "name": "ipython",
    "version": 3
   },
   "file_extension": ".py",
   "mimetype": "text/x-python",
   "name": "python",
   "nbconvert_exporter": "python",
   "pygments_lexer": "ipython3",
   "version": "3.8.8"
  }
 },
 "nbformat": 4,
 "nbformat_minor": 5
}
